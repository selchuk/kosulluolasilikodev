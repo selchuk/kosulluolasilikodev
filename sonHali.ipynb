{
  "nbformat": 4,
  "nbformat_minor": 0,
  "metadata": {
    "colab": {
      "name": "Untitled0.ipynb",
      "provenance": [],
      "authorship_tag": "ABX9TyNHol2dHZcZKR8nOZVrgysv",
      "include_colab_link": true
    },
    "kernelspec": {
      "name": "python3",
      "display_name": "Python 3"
    },
    "language_info": {
      "name": "python"
    }
  },
  "cells": [
    {
      "cell_type": "markdown",
      "metadata": {
        "id": "view-in-github",
        "colab_type": "text"
      },
      "source": [
        "<a href=\"https://colab.research.google.com/github/selchuk/kosulluolasilikodev/blob/main/sonHali.ipynb\" target=\"_parent\"><img src=\"https://colab.research.google.com/assets/colab-badge.svg\" alt=\"Open In Colab\"/></a>"
      ]
    },
    {
      "cell_type": "code",
      "metadata": {
        "id": "CfKMk64Di1ks"
      },
      "source": [
        ""
      ],
      "execution_count": null,
      "outputs": []
    },
    {
      "cell_type": "markdown",
      "metadata": {
        "id": "FrDKTdqS4MN0"
      },
      "source": [
        ""
      ]
    },
    {
      "cell_type": "markdown",
      "metadata": {
        "id": "KsJLmMPrzkPn"
      },
      "source": [
        "İkişer adet Sarı, mavi ve yeşil renklerde (toplam 6 adet) bilyenin olduğu bir kaptan çekilen iki adet bilyeden ilkinin sarı olduğu bilindiğine göre, diğerinin de aynı renkte olma olasılığı nedir?\n",
        "\n",
        "Örnek Uzay : {SS,SM,SY,MM,MY,YY}\n",
        "\n",
        "A Durumu  : İlk bilyenin sarı olması durumu : {SS,SM,SY} P(A) = 3/6\n",
        "B Durumu : İkinci bilyenin de sarı olma olasılığı : {SS} P(A∩B) = 1/6 \n",
        "\n",
        "B|A = İlk bilyenin sarı olduğu bilindiğine göre ikincinin de sarı olma olasılığı : \n",
        "\n",
        "P(B|A) = P(A∩B) / P(A) = (1/6) / (3/6) = 1/3\n",
        "\n",
        "\n",
        "\n",
        "\n",
        "\n",
        "\n",
        "\n",
        "\n",
        "\n",
        "\n",
        "\n"
      ]
    },
    {
      "cell_type": "markdown",
      "metadata": {
        "id": "0YnnrmWz4OnF"
      },
      "source": [
        ""
      ]
    },
    {
      "cell_type": "code",
      "metadata": {
        "id": "xxbSUngt4Ow5"
      },
      "source": [
        ""
      ],
      "execution_count": null,
      "outputs": []
    },
    {
      "cell_type": "markdown",
      "metadata": {
        "id": "oR8FZjN04PS1"
      },
      "source": [
        ""
      ]
    },
    {
      "cell_type": "code",
      "metadata": {
        "id": "L0iIj7Y748j-",
        "colab": {
          "base_uri": "https://localhost:8080/"
        },
        "outputId": "7e879721-273d-4746-ae92-96689ef5610b"
      },
      "source": [
        "import random\n",
        "bilyeler = 3\n",
        "ornekUzay = 2*bilyeler\n",
        "\n",
        "tekSari=0\n",
        "ikiSari=0\n",
        "ilkCekilen = [\"sari\", \"mavi\",\"yeşil\"]\n",
        "ikinciCekilen = [\"sari\", \"mavi\",\"yeşil\"]\n",
        "\n",
        "for i in ilkCekilen:\n",
        "  for j in ikinciCekilen:\n",
        "    if i == \"sari\" :\n",
        "            tekSari += 1\n",
        "    if i == \"sari\" and j == \"sari\":\n",
        "            ikiSari += 1\n",
        "\n",
        "\n",
        "# A olayının olma olasılığı\n",
        "PA = tekSari/ornekUzay\n",
        "# B olayının olma olasılığı\n",
        "PB = ikiSari/ornekUzay\n",
        "# B | A\n",
        "PBA = PB/PA\n",
        "\n",
        "print(\"Bilyelerden ilkinin sari olduğu bilindiğine göre ikisinin de sari olma olasılığı = \", PBA )"
      ],
      "execution_count": 20,
      "outputs": [
        {
          "output_type": "stream",
          "text": [
            "Bilyelerden ilkinin sari olduğu bilindiğine göre ikisinin de sari olma olasılığı =  0.3333333333333333\n"
          ],
          "name": "stdout"
        }
      ]
    },
    {
      "cell_type": "code",
      "metadata": {
        "id": "HqicLpxh8uGG"
      },
      "source": [
        ""
      ],
      "execution_count": null,
      "outputs": []
    }
  ]
}
