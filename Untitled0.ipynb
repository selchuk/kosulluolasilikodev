{
  "nbformat": 4,
  "nbformat_minor": 0,
  "metadata": {
    "colab": {
      "name": "Untitled0.ipynb",
      "provenance": [],
      "authorship_tag": "ABX9TyOU2NEB3CFuSe3v/B+FH0+Y",
      "include_colab_link": true
    },
    "kernelspec": {
      "name": "python3",
      "display_name": "Python 3"
    },
    "language_info": {
      "name": "python"
    }
  },
  "cells": [
    {
      "cell_type": "markdown",
      "metadata": {
        "id": "view-in-github",
        "colab_type": "text"
      },
      "source": [
        "<a href=\"https://colab.research.google.com/github/selchuk/kosulluolasilikodev/blob/main/Untitled0.ipynb\" target=\"_parent\"><img src=\"https://colab.research.google.com/assets/colab-badge.svg\" alt=\"Open In Colab\"/></a>"
      ]
    },
    {
      "cell_type": "code",
      "metadata": {
        "id": "CfKMk64Di1ks"
      },
      "source": [
        ""
      ],
      "execution_count": null,
      "outputs": []
    },
    {
      "cell_type": "markdown",
      "metadata": {
        "id": "KsJLmMPrzkPn"
      },
      "source": [
        "Sarı, mavi ve yeşil rrenklerde 3 adet bilyenin olduğu bir kaptan çekilen iki adet bilyden ilkinin sarı olduğu bilindiğine göre, diğerinin farklı renkte olma olasılığı nedir?\n",
        "\n",
        "Örnek Uzay : {SS,SM,SY,MM,MY,YY}\n",
        "\n",
        "A Durumu  : İlk bilyenin sarı olması durumu : {SS,SM,SY} 3/6\n",
        "B Durumu : İkinci bilyenin sarı olmama olasılığı : {MM,MY,YY} 3/6 \n",
        "\n",
        "\n",
        "\n",
        "\n",
        "\n"
      ]
    }
  ]
}